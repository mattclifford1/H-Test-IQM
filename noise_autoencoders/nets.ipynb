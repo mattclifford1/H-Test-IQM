{
 "cells": [
  {
   "cell_type": "code",
   "execution_count": 1,
   "metadata": {},
   "outputs": [],
   "source": [
    "from model import EntropyLimitedModel\n",
    "import os\n",
    "import torch"
   ]
  },
  {
   "cell_type": "code",
   "execution_count": 2,
   "metadata": {},
   "outputs": [],
   "source": [
    "model = EntropyLimitedModel()"
   ]
  },
  {
   "cell_type": "code",
   "execution_count": 5,
   "metadata": {},
   "outputs": [],
   "source": [
    "dir = os.getcwd()\n",
    "path = os.path.join(dir, 'ux_nlpd.pth')"
   ]
  },
  {
   "cell_type": "code",
   "execution_count": 6,
   "metadata": {},
   "outputs": [
    {
     "name": "stderr",
     "output_type": "stream",
     "text": [
      "/tmp/ipykernel_144972/946531724.py:2: FutureWarning: You are using `torch.load` with `weights_only=False` (the current default value), which uses the default pickle module implicitly. It is possible to construct malicious pickle data which will execute arbitrary code during unpickling (See https://github.com/pytorch/pytorch/blob/main/SECURITY.md#untrusted-models for more details). In a future release, the default value for `weights_only` will be flipped to `True`. This limits the functions that could be executed during unpickling. Arbitrary objects will no longer be allowed to be loaded via this mode unless they are explicitly allowlisted by the user via `torch.serialization.add_safe_globals`. We recommend you start setting `weights_only=True` for any use case where you don't have full control of the loaded file. Please open an issue on GitHub for any issues related to this experimental feature.\n",
      "  checkpoint = torch.load(path)\n"
     ]
    },
    {
     "ename": "RuntimeError",
     "evalue": "Error(s) in loading state_dict for EntropyLimitedModel:\n\tMissing key(s) in state_dict: \"encoder.7.beta\", \"encoder.7.gamma\", \"encoder.7.beta_reparam.pedestal\", \"encoder.7.beta_reparam.lower_bound.bound\", \"encoder.7.gamma_reparam.pedestal\", \"encoder.7.gamma_reparam.lower_bound.bound\", \"encoder.8.weight\", \"encoder.8.bias\", \"decoder.7.beta\", \"decoder.7.gamma\", \"decoder.7.beta_reparam.pedestal\", \"decoder.7.beta_reparam.lower_bound.bound\", \"decoder.7.gamma_reparam.pedestal\", \"decoder.7.gamma_reparam.lower_bound.bound\", \"decoder.8.weight\", \"decoder.8.bias\". \n\tsize mismatch for encoder.0.weight: copying a param with shape torch.Size([192, 3, 5, 5]) from checkpoint, the shape in current model is torch.Size([128, 3, 3, 3]).\n\tsize mismatch for encoder.0.bias: copying a param with shape torch.Size([192]) from checkpoint, the shape in current model is torch.Size([128]).\n\tsize mismatch for encoder.1.beta: copying a param with shape torch.Size([192]) from checkpoint, the shape in current model is torch.Size([128]).\n\tsize mismatch for encoder.1.gamma: copying a param with shape torch.Size([192, 192]) from checkpoint, the shape in current model is torch.Size([128, 128]).\n\tsize mismatch for encoder.2.weight: copying a param with shape torch.Size([192, 192, 5, 5]) from checkpoint, the shape in current model is torch.Size([128, 128, 3, 3]).\n\tsize mismatch for encoder.2.bias: copying a param with shape torch.Size([192]) from checkpoint, the shape in current model is torch.Size([128]).\n\tsize mismatch for encoder.3.beta: copying a param with shape torch.Size([192]) from checkpoint, the shape in current model is torch.Size([128]).\n\tsize mismatch for encoder.3.gamma: copying a param with shape torch.Size([192, 192]) from checkpoint, the shape in current model is torch.Size([128, 128]).\n\tsize mismatch for encoder.4.weight: copying a param with shape torch.Size([192, 192, 5, 5]) from checkpoint, the shape in current model is torch.Size([128, 128, 3, 3]).\n\tsize mismatch for encoder.4.bias: copying a param with shape torch.Size([192]) from checkpoint, the shape in current model is torch.Size([128]).\n\tsize mismatch for encoder.5.beta: copying a param with shape torch.Size([192]) from checkpoint, the shape in current model is torch.Size([128]).\n\tsize mismatch for encoder.5.gamma: copying a param with shape torch.Size([192, 192]) from checkpoint, the shape in current model is torch.Size([128, 128]).\n\tsize mismatch for encoder.6.weight: copying a param with shape torch.Size([320, 192, 5, 5]) from checkpoint, the shape in current model is torch.Size([128, 128, 3, 3]).\n\tsize mismatch for encoder.6.bias: copying a param with shape torch.Size([320]) from checkpoint, the shape in current model is torch.Size([128]).\n\tsize mismatch for decoder.0.weight: copying a param with shape torch.Size([320, 192, 5, 5]) from checkpoint, the shape in current model is torch.Size([64, 128, 3, 3]).\n\tsize mismatch for decoder.0.bias: copying a param with shape torch.Size([192]) from checkpoint, the shape in current model is torch.Size([128]).\n\tsize mismatch for decoder.1.beta: copying a param with shape torch.Size([192]) from checkpoint, the shape in current model is torch.Size([128]).\n\tsize mismatch for decoder.1.gamma: copying a param with shape torch.Size([192, 192]) from checkpoint, the shape in current model is torch.Size([128, 128]).\n\tsize mismatch for decoder.2.weight: copying a param with shape torch.Size([192, 192, 5, 5]) from checkpoint, the shape in current model is torch.Size([128, 128, 3, 3]).\n\tsize mismatch for decoder.2.bias: copying a param with shape torch.Size([192]) from checkpoint, the shape in current model is torch.Size([128]).\n\tsize mismatch for decoder.3.beta: copying a param with shape torch.Size([192]) from checkpoint, the shape in current model is torch.Size([128]).\n\tsize mismatch for decoder.3.gamma: copying a param with shape torch.Size([192, 192]) from checkpoint, the shape in current model is torch.Size([128, 128]).\n\tsize mismatch for decoder.4.weight: copying a param with shape torch.Size([192, 192, 5, 5]) from checkpoint, the shape in current model is torch.Size([128, 128, 3, 3]).\n\tsize mismatch for decoder.4.bias: copying a param with shape torch.Size([192]) from checkpoint, the shape in current model is torch.Size([128]).\n\tsize mismatch for decoder.5.beta: copying a param with shape torch.Size([192]) from checkpoint, the shape in current model is torch.Size([128]).\n\tsize mismatch for decoder.5.gamma: copying a param with shape torch.Size([192, 192]) from checkpoint, the shape in current model is torch.Size([128, 128]).\n\tsize mismatch for decoder.6.weight: copying a param with shape torch.Size([192, 3, 5, 5]) from checkpoint, the shape in current model is torch.Size([128, 128, 3, 3]).\n\tsize mismatch for decoder.6.bias: copying a param with shape torch.Size([3]) from checkpoint, the shape in current model is torch.Size([128]).",
     "output_type": "error",
     "traceback": [
      "\u001b[0;31m---------------------------------------------------------------------------\u001b[0m",
      "\u001b[0;31mRuntimeError\u001b[0m                              Traceback (most recent call last)",
      "Cell \u001b[0;32mIn[6], line 3\u001b[0m\n\u001b[1;32m      1\u001b[0m \u001b[38;5;66;03m# load model from checkpoint - https://pytorch.org/tutorials/beginner/saving_loading_models.html#saving-loading-a-general-checkpoint-for-inference-and-or-resuming-training\u001b[39;00m\n\u001b[1;32m      2\u001b[0m checkpoint \u001b[38;5;241m=\u001b[39m torch\u001b[38;5;241m.\u001b[39mload(path)\n\u001b[0;32m----> 3\u001b[0m \u001b[43mmodel\u001b[49m\u001b[38;5;241;43m.\u001b[39;49m\u001b[43mload_state_dict\u001b[49m\u001b[43m(\u001b[49m\u001b[43mcheckpoint\u001b[49m\u001b[43m[\u001b[49m\u001b[38;5;124;43m'\u001b[39;49m\u001b[38;5;124;43mmodel_state_dict\u001b[39;49m\u001b[38;5;124;43m'\u001b[39;49m\u001b[43m]\u001b[49m\u001b[43m)\u001b[49m\n\u001b[1;32m      4\u001b[0m epoch \u001b[38;5;241m=\u001b[39m checkpoint[\u001b[38;5;124m'\u001b[39m\u001b[38;5;124mepoch\u001b[39m\u001b[38;5;124m'\u001b[39m]\n\u001b[1;32m      5\u001b[0m loss \u001b[38;5;241m=\u001b[39m checkpoint[\u001b[38;5;124m'\u001b[39m\u001b[38;5;124mloss\u001b[39m\u001b[38;5;124m'\u001b[39m]\n",
      "File \u001b[0;32m~/anaconda3/envs/h_data/lib/python3.12/site-packages/torch/nn/modules/module.py:2215\u001b[0m, in \u001b[0;36mModule.load_state_dict\u001b[0;34m(self, state_dict, strict, assign)\u001b[0m\n\u001b[1;32m   2210\u001b[0m         error_msgs\u001b[38;5;241m.\u001b[39minsert(\n\u001b[1;32m   2211\u001b[0m             \u001b[38;5;241m0\u001b[39m, \u001b[38;5;124m'\u001b[39m\u001b[38;5;124mMissing key(s) in state_dict: \u001b[39m\u001b[38;5;132;01m{}\u001b[39;00m\u001b[38;5;124m. \u001b[39m\u001b[38;5;124m'\u001b[39m\u001b[38;5;241m.\u001b[39mformat(\n\u001b[1;32m   2212\u001b[0m                 \u001b[38;5;124m'\u001b[39m\u001b[38;5;124m, \u001b[39m\u001b[38;5;124m'\u001b[39m\u001b[38;5;241m.\u001b[39mjoin(\u001b[38;5;124mf\u001b[39m\u001b[38;5;124m'\u001b[39m\u001b[38;5;124m\"\u001b[39m\u001b[38;5;132;01m{\u001b[39;00mk\u001b[38;5;132;01m}\u001b[39;00m\u001b[38;5;124m\"\u001b[39m\u001b[38;5;124m'\u001b[39m \u001b[38;5;28;01mfor\u001b[39;00m k \u001b[38;5;129;01min\u001b[39;00m missing_keys)))\n\u001b[1;32m   2214\u001b[0m \u001b[38;5;28;01mif\u001b[39;00m \u001b[38;5;28mlen\u001b[39m(error_msgs) \u001b[38;5;241m>\u001b[39m \u001b[38;5;241m0\u001b[39m:\n\u001b[0;32m-> 2215\u001b[0m     \u001b[38;5;28;01mraise\u001b[39;00m \u001b[38;5;167;01mRuntimeError\u001b[39;00m(\u001b[38;5;124m'\u001b[39m\u001b[38;5;124mError(s) in loading state_dict for \u001b[39m\u001b[38;5;132;01m{}\u001b[39;00m\u001b[38;5;124m:\u001b[39m\u001b[38;5;130;01m\\n\u001b[39;00m\u001b[38;5;130;01m\\t\u001b[39;00m\u001b[38;5;132;01m{}\u001b[39;00m\u001b[38;5;124m'\u001b[39m\u001b[38;5;241m.\u001b[39mformat(\n\u001b[1;32m   2216\u001b[0m                        \u001b[38;5;28mself\u001b[39m\u001b[38;5;241m.\u001b[39m\u001b[38;5;18m__class__\u001b[39m\u001b[38;5;241m.\u001b[39m\u001b[38;5;18m__name__\u001b[39m, \u001b[38;5;124m\"\u001b[39m\u001b[38;5;130;01m\\n\u001b[39;00m\u001b[38;5;130;01m\\t\u001b[39;00m\u001b[38;5;124m\"\u001b[39m\u001b[38;5;241m.\u001b[39mjoin(error_msgs)))\n\u001b[1;32m   2217\u001b[0m \u001b[38;5;28;01mreturn\u001b[39;00m _IncompatibleKeys(missing_keys, unexpected_keys)\n",
      "\u001b[0;31mRuntimeError\u001b[0m: Error(s) in loading state_dict for EntropyLimitedModel:\n\tMissing key(s) in state_dict: \"encoder.7.beta\", \"encoder.7.gamma\", \"encoder.7.beta_reparam.pedestal\", \"encoder.7.beta_reparam.lower_bound.bound\", \"encoder.7.gamma_reparam.pedestal\", \"encoder.7.gamma_reparam.lower_bound.bound\", \"encoder.8.weight\", \"encoder.8.bias\", \"decoder.7.beta\", \"decoder.7.gamma\", \"decoder.7.beta_reparam.pedestal\", \"decoder.7.beta_reparam.lower_bound.bound\", \"decoder.7.gamma_reparam.pedestal\", \"decoder.7.gamma_reparam.lower_bound.bound\", \"decoder.8.weight\", \"decoder.8.bias\". \n\tsize mismatch for encoder.0.weight: copying a param with shape torch.Size([192, 3, 5, 5]) from checkpoint, the shape in current model is torch.Size([128, 3, 3, 3]).\n\tsize mismatch for encoder.0.bias: copying a param with shape torch.Size([192]) from checkpoint, the shape in current model is torch.Size([128]).\n\tsize mismatch for encoder.1.beta: copying a param with shape torch.Size([192]) from checkpoint, the shape in current model is torch.Size([128]).\n\tsize mismatch for encoder.1.gamma: copying a param with shape torch.Size([192, 192]) from checkpoint, the shape in current model is torch.Size([128, 128]).\n\tsize mismatch for encoder.2.weight: copying a param with shape torch.Size([192, 192, 5, 5]) from checkpoint, the shape in current model is torch.Size([128, 128, 3, 3]).\n\tsize mismatch for encoder.2.bias: copying a param with shape torch.Size([192]) from checkpoint, the shape in current model is torch.Size([128]).\n\tsize mismatch for encoder.3.beta: copying a param with shape torch.Size([192]) from checkpoint, the shape in current model is torch.Size([128]).\n\tsize mismatch for encoder.3.gamma: copying a param with shape torch.Size([192, 192]) from checkpoint, the shape in current model is torch.Size([128, 128]).\n\tsize mismatch for encoder.4.weight: copying a param with shape torch.Size([192, 192, 5, 5]) from checkpoint, the shape in current model is torch.Size([128, 128, 3, 3]).\n\tsize mismatch for encoder.4.bias: copying a param with shape torch.Size([192]) from checkpoint, the shape in current model is torch.Size([128]).\n\tsize mismatch for encoder.5.beta: copying a param with shape torch.Size([192]) from checkpoint, the shape in current model is torch.Size([128]).\n\tsize mismatch for encoder.5.gamma: copying a param with shape torch.Size([192, 192]) from checkpoint, the shape in current model is torch.Size([128, 128]).\n\tsize mismatch for encoder.6.weight: copying a param with shape torch.Size([320, 192, 5, 5]) from checkpoint, the shape in current model is torch.Size([128, 128, 3, 3]).\n\tsize mismatch for encoder.6.bias: copying a param with shape torch.Size([320]) from checkpoint, the shape in current model is torch.Size([128]).\n\tsize mismatch for decoder.0.weight: copying a param with shape torch.Size([320, 192, 5, 5]) from checkpoint, the shape in current model is torch.Size([64, 128, 3, 3]).\n\tsize mismatch for decoder.0.bias: copying a param with shape torch.Size([192]) from checkpoint, the shape in current model is torch.Size([128]).\n\tsize mismatch for decoder.1.beta: copying a param with shape torch.Size([192]) from checkpoint, the shape in current model is torch.Size([128]).\n\tsize mismatch for decoder.1.gamma: copying a param with shape torch.Size([192, 192]) from checkpoint, the shape in current model is torch.Size([128, 128]).\n\tsize mismatch for decoder.2.weight: copying a param with shape torch.Size([192, 192, 5, 5]) from checkpoint, the shape in current model is torch.Size([128, 128, 3, 3]).\n\tsize mismatch for decoder.2.bias: copying a param with shape torch.Size([192]) from checkpoint, the shape in current model is torch.Size([128]).\n\tsize mismatch for decoder.3.beta: copying a param with shape torch.Size([192]) from checkpoint, the shape in current model is torch.Size([128]).\n\tsize mismatch for decoder.3.gamma: copying a param with shape torch.Size([192, 192]) from checkpoint, the shape in current model is torch.Size([128, 128]).\n\tsize mismatch for decoder.4.weight: copying a param with shape torch.Size([192, 192, 5, 5]) from checkpoint, the shape in current model is torch.Size([128, 128, 3, 3]).\n\tsize mismatch for decoder.4.bias: copying a param with shape torch.Size([192]) from checkpoint, the shape in current model is torch.Size([128]).\n\tsize mismatch for decoder.5.beta: copying a param with shape torch.Size([192]) from checkpoint, the shape in current model is torch.Size([128]).\n\tsize mismatch for decoder.5.gamma: copying a param with shape torch.Size([192, 192]) from checkpoint, the shape in current model is torch.Size([128, 128]).\n\tsize mismatch for decoder.6.weight: copying a param with shape torch.Size([192, 3, 5, 5]) from checkpoint, the shape in current model is torch.Size([128, 128, 3, 3]).\n\tsize mismatch for decoder.6.bias: copying a param with shape torch.Size([3]) from checkpoint, the shape in current model is torch.Size([128])."
     ]
    }
   ],
   "source": [
    "# load model from checkpoint - https://pytorch.org/tutorials/beginner/saving_loading_models.html#saving-loading-a-general-checkpoint-for-inference-and-or-resuming-training\n",
    "checkpoint = torch.load(path)\n",
    "model.load_state_dict(checkpoint['model_state_dict'])\n",
    "epoch = checkpoint['epoch']\n",
    "loss = checkpoint['loss']\n",
    "\n",
    "model.eval()\n",
    "# - or -\n",
    "# model.train()"
   ]
  },
  {
   "cell_type": "code",
   "execution_count": null,
   "metadata": {},
   "outputs": [],
   "source": []
  }
 ],
 "metadata": {
  "kernelspec": {
   "display_name": "h_data",
   "language": "python",
   "name": "python3"
  },
  "language_info": {
   "codemirror_mode": {
    "name": "ipython",
    "version": 3
   },
   "file_extension": ".py",
   "mimetype": "text/x-python",
   "name": "python",
   "nbconvert_exporter": "python",
   "pygments_lexer": "ipython3",
   "version": "3.12.4"
  }
 },
 "nbformat": 4,
 "nbformat_minor": 2
}
