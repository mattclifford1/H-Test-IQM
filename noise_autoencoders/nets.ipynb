{
 "cells": [
  {
   "cell_type": "code",
   "execution_count": 37,
   "metadata": {},
   "outputs": [
    {
     "name": "stdout",
     "output_type": "stream",
     "text": [
      "The autoreload extension is already loaded. To reload it, use:\n",
      "  %reload_ext autoreload\n"
     ]
    }
   ],
   "source": [
    "%load_ext autoreload\n",
    "%autoreload 2\n",
    "from model import EntropyLimitedModel\n",
    "import os\n",
    "import torch"
   ]
  },
  {
   "cell_type": "code",
   "execution_count": 38,
   "metadata": {},
   "outputs": [],
   "source": [
    "centers = 5\n",
    "model = EntropyLimitedModel(N=128, M=64, sigmoid=True, centers=centers)\n",
    "# model.train()\n",
    "# model = EntropyLimitedModel(N=192, M=320, centers=centers)"
   ]
  },
  {
   "cell_type": "code",
   "execution_count": 39,
   "metadata": {},
   "outputs": [],
   "source": [
    "dir = os.getcwd()\n",
    "path = os.path.join(dir, 'save_nets', f'ssim-{centers}.pth')\n",
    "# path = os.path.join(dir, 'noise_autoencoders', f'px_mse.pth')"
   ]
  },
  {
   "cell_type": "code",
   "execution_count": 40,
   "metadata": {},
   "outputs": [
    {
     "name": "stderr",
     "output_type": "stream",
     "text": [
      "/tmp/ipykernel_15426/3373395900.py:2: FutureWarning: You are using `torch.load` with `weights_only=False` (the current default value), which uses the default pickle module implicitly. It is possible to construct malicious pickle data which will execute arbitrary code during unpickling (See https://github.com/pytorch/pytorch/blob/main/SECURITY.md#untrusted-models for more details). In a future release, the default value for `weights_only` will be flipped to `True`. This limits the functions that could be executed during unpickling. Arbitrary objects will no longer be allowed to be loaded via this mode unless they are explicitly allowlisted by the user via `torch.serialization.add_safe_globals`. We recommend you start setting `weights_only=True` for any use case where you don't have full control of the loaded file. Please open an issue on GitHub for any issues related to this experimental feature.\n",
      "  checkpoint = torch.load(path, map_location='cpu')\n"
     ]
    },
    {
     "data": {
      "text/plain": [
       "EntropyLimitedModel(\n",
       "  (encoder): Sequential(\n",
       "    (0): Conv2d(3, 128, kernel_size=(3, 3), stride=(2, 2), padding=(1, 1))\n",
       "    (1): GDN(\n",
       "      (beta_reparam): NonNegativeParametrizer(\n",
       "        (lower_bound): LowerBound()\n",
       "      )\n",
       "      (gamma_reparam): NonNegativeParametrizer(\n",
       "        (lower_bound): LowerBound()\n",
       "      )\n",
       "    )\n",
       "    (2): Conv2d(128, 128, kernel_size=(3, 3), stride=(2, 2), padding=(1, 1))\n",
       "    (3): GDN(\n",
       "      (beta_reparam): NonNegativeParametrizer(\n",
       "        (lower_bound): LowerBound()\n",
       "      )\n",
       "      (gamma_reparam): NonNegativeParametrizer(\n",
       "        (lower_bound): LowerBound()\n",
       "      )\n",
       "    )\n",
       "    (4): Conv2d(128, 128, kernel_size=(3, 3), stride=(2, 2), padding=(1, 1))\n",
       "    (5): GDN(\n",
       "      (beta_reparam): NonNegativeParametrizer(\n",
       "        (lower_bound): LowerBound()\n",
       "      )\n",
       "      (gamma_reparam): NonNegativeParametrizer(\n",
       "        (lower_bound): LowerBound()\n",
       "      )\n",
       "    )\n",
       "    (6): Conv2d(128, 128, kernel_size=(3, 3), stride=(2, 2), padding=(1, 1))\n",
       "    (7): GDN(\n",
       "      (beta_reparam): NonNegativeParametrizer(\n",
       "        (lower_bound): LowerBound()\n",
       "      )\n",
       "      (gamma_reparam): NonNegativeParametrizer(\n",
       "        (lower_bound): LowerBound()\n",
       "      )\n",
       "    )\n",
       "    (8): Conv2d(128, 64, kernel_size=(3, 3), stride=(1, 1), padding=(1, 1))\n",
       "  )\n",
       "  (decoder): Sequential(\n",
       "    (0): ConvTranspose2d(64, 128, kernel_size=(3, 3), stride=(1, 1), padding=(1, 1))\n",
       "    (1): GDN(\n",
       "      (beta_reparam): NonNegativeParametrizer(\n",
       "        (lower_bound): LowerBound()\n",
       "      )\n",
       "      (gamma_reparam): NonNegativeParametrizer(\n",
       "        (lower_bound): LowerBound()\n",
       "      )\n",
       "    )\n",
       "    (2): ConvTranspose2d(128, 128, kernel_size=(3, 3), stride=(2, 2), padding=(1, 1), output_padding=(1, 1))\n",
       "    (3): GDN(\n",
       "      (beta_reparam): NonNegativeParametrizer(\n",
       "        (lower_bound): LowerBound()\n",
       "      )\n",
       "      (gamma_reparam): NonNegativeParametrizer(\n",
       "        (lower_bound): LowerBound()\n",
       "      )\n",
       "    )\n",
       "    (4): ConvTranspose2d(128, 128, kernel_size=(3, 3), stride=(2, 2), padding=(1, 1), output_padding=(1, 1))\n",
       "    (5): GDN(\n",
       "      (beta_reparam): NonNegativeParametrizer(\n",
       "        (lower_bound): LowerBound()\n",
       "      )\n",
       "      (gamma_reparam): NonNegativeParametrizer(\n",
       "        (lower_bound): LowerBound()\n",
       "      )\n",
       "    )\n",
       "    (6): ConvTranspose2d(128, 128, kernel_size=(3, 3), stride=(2, 2), padding=(1, 1), output_padding=(1, 1))\n",
       "    (7): GDN(\n",
       "      (beta_reparam): NonNegativeParametrizer(\n",
       "        (lower_bound): LowerBound()\n",
       "      )\n",
       "      (gamma_reparam): NonNegativeParametrizer(\n",
       "        (lower_bound): LowerBound()\n",
       "      )\n",
       "    )\n",
       "    (8): ConvTranspose2d(128, 3, kernel_size=(3, 3), stride=(2, 2), padding=(1, 1), output_padding=(1, 1))\n",
       "    (sig): Sigmoid()\n",
       "  )\n",
       ")"
      ]
     },
     "execution_count": 40,
     "metadata": {},
     "output_type": "execute_result"
    }
   ],
   "source": [
    "# load model from checkpoint - https://pytorch.org/tutorials/beginner/saving_loading_models.html#saving-loading-a-general-checkpoint-for-inference-and-or-resuming-training\n",
    "checkpoint = torch.load(path, map_location='cpu')\n",
    "model.load_state_dict(checkpoint['model_state_dict'])\n",
    "epoch = checkpoint['epoch']\n",
    "# loss = checkpoint['loss']\n",
    "\n",
    "model.eval()   # actualy rounding to centers (e.g. -1, 1)\n",
    "# - or -\n",
    "# model.train()    # soft rounding for centers"
   ]
  },
  {
   "cell_type": "code",
   "execution_count": null,
   "metadata": {},
   "outputs": [],
   "source": []
  }
 ],
 "metadata": {
  "kernelspec": {
   "display_name": "h_data",
   "language": "python",
   "name": "python3"
  },
  "language_info": {
   "codemirror_mode": {
    "name": "ipython",
    "version": 3
   },
   "file_extension": ".py",
   "mimetype": "text/x-python",
   "name": "python",
   "nbconvert_exporter": "python",
   "pygments_lexer": "ipython3",
   "version": "3.10.14"
  }
 },
 "nbformat": 4,
 "nbformat_minor": 2
}
