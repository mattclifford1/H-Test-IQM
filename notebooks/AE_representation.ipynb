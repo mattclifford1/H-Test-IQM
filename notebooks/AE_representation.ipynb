{
 "cells": [
  {
   "cell_type": "code",
   "execution_count": 1,
   "metadata": {},
   "outputs": [],
   "source": [
    "%load_ext autoreload\n",
    "%autoreload 2\n",
    "import matplotlib.pyplot as plt\n",
    "import numpy as np\n",
    "from h_test_IQM.pipeline import get_scores\n",
    "from scipy.stats import entropy\n"
   ]
  },
  {
   "cell_type": "code",
   "execution_count": 3,
   "metadata": {},
   "outputs": [
    {
     "name": "stdout",
     "output_type": "stream",
     "text": [
      "Pipeline: \n",
      "    target_dataset: CIFAR-10 \n",
      "    test_dataset:   IMAGENET64 \n",
      "    transform:      None \n",
      "    scorer:         entropy-2-mse \n",
      "    test type:      ['KL', 'plot_hist'] \n",
      "\n",
      "Extras:\n",
      "    device:     cuda\n",
      "    batch size: 32\n",
      "    dev mode:   False\n",
      "\n",
      "cuda not available, using cpu\n"
     ]
    },
    {
     "name": "stderr",
     "output_type": "stream",
     "text": [
      "scoring:   5%|▍         | 36/750 [01:14<24:45,  2.08s/it]"
     ]
    }
   ],
   "source": [
    "dist_target, dist_test, results = get_scores(dataset_target='CIFAR-10',\n",
    "                                    # dataset_test='KODAK',\n",
    "                                    dataset_test='IMAGENET64',\n",
    "                                    transform=None,\n",
    "                                    scorer='entropy-2-mse',\n",
    "                                    test=['KL', 'plot_hist'],\n",
    "                                    device='cuda',\n",
    "                                    dev=False)"
   ]
  },
  {
   "cell_type": "code",
   "execution_count": null,
   "metadata": {},
   "outputs": [],
   "source": []
  }
 ],
 "metadata": {
  "kernelspec": {
   "display_name": "h_data",
   "language": "python",
   "name": "python3"
  },
  "language_info": {
   "codemirror_mode": {
    "name": "ipython",
    "version": 3
   },
   "file_extension": ".py",
   "mimetype": "text/x-python",
   "name": "python",
   "nbconvert_exporter": "python",
   "pygments_lexer": "ipython3",
   "version": "3.10.14"
  }
 },
 "nbformat": 4,
 "nbformat_minor": 2
}
