{
 "cells": [
  {
   "cell_type": "code",
   "execution_count": 5,
   "metadata": {},
   "outputs": [
    {
     "name": "stdout",
     "output_type": "stream",
     "text": [
      "The autoreload extension is already loaded. To reload it, use:\n",
      "  %reload_ext autoreload\n"
     ]
    }
   ],
   "source": [
    "%load_ext autoreload\n",
    "%autoreload 2\n",
    "import numpy as np\n",
    "import matplotlib.pyplot as plt\n",
    "from h_test_IQM.pipeline import get_scores\n",
    "from h_test_IQM.pipeline.main import plot_hist, samples_to_pdf\n",
    "from tqdm import tqdm"
   ]
  },
  {
   "cell_type": "code",
   "execution_count": 6,
   "metadata": {},
   "outputs": [],
   "source": [
    "# parameters for each test to set up\n",
    "run1 = {'dataset': 'CIFAR_10', \n",
    "        'data_labels': 'all', \n",
    "        'dataset_proportion': 0.1, \n",
    "        'name': 'CIFAR all', \n",
    "        'noise': 'gaussian_noise',\n",
    "        'test': 'KL',\n",
    "        'dev': False,   # If True, the code will run on very small data size\n",
    "        'runs': 100,\n",
    "        }\n",
    "\n",
    "# things to change for the test against\n",
    "run2 = run1.copy()\n",
    "run2['data_labels'] = [0]\n",
    "run2['dataset_proportion'] = 1\n",
    "run2['name'] = 'CIFAR one'"
   ]
  },
  {
   "cell_type": "code",
   "execution_count": 7,
   "metadata": {},
   "outputs": [
    {
     "name": "stderr",
     "output_type": "stream",
     "text": [
      "CIFAR all:   0%|          | 0/100 [00:00<?, ?it/s]"
     ]
    },
    {
     "name": "stderr",
     "output_type": "stream",
     "text": [
      "CIFAR all: 100%|██████████| 100/100 [05:54<00:00,  3.55s/it]\n",
      "CIFAR one: 100%|██████████| 100/100 [05:58<00:00,  3.58s/it]\n"
     ]
    }
   ],
   "source": [
    "# run the tests for each configuration\n",
    "test1 = []\n",
    "test2 = []\n",
    "for test_results, run in zip([test1, test2], [run1, run2]):\n",
    "    for i in tqdm(range(run['runs']), desc=run['name']):\n",
    "        _, _, res = get_scores(\n",
    "            dataset_target=run['dataset'],\n",
    "            dataset_test=run['dataset'],\n",
    "            target_labels=run['data_labels'],\n",
    "            test_labels=run['data_labels'],\n",
    "            transform_test=run['noise'],\n",
    "            scorer='entropy-2-mse',\n",
    "            test=run['test'],\n",
    "            dev=run['dev'],\n",
    "            dataset_proportion=run['dataset_proportion'],\n",
    "            seed=i,\n",
    "            _print=False,\n",
    "        )\n",
    "        test_results.append(res[run['test']])"
   ]
  },
  {
   "cell_type": "code",
   "execution_count": 8,
   "metadata": {},
   "outputs": [
    {
     "data": {
      "image/png": "[encoded data removed]",
      "text/plain": [
       "<Figure size 640x480 with 1 Axes>"
      ]
     },
     "metadata": {},
     "output_type": "display_data"
    }
   ],
   "source": [
    "# plot the results (difference of differneces)\n",
    "test1 = np.array(test1)\n",
    "test2 = np.array(test2)\n",
    "dist1, dist2, all_bins, one_bins = samples_to_pdf(\n",
    "    test2, test1, num_bins=50)\n",
    "plot_hist(dist1, all_bins, name=run1['name'])\n",
    "plot_hist(dist2, one_bins, name=run2['name'])\n",
    "plt.legend()\n",
    "plt.show()"
   ]
  },
  {
   "cell_type": "code",
   "execution_count": null,
   "metadata": {},
   "outputs": [],
   "source": []
  }
 ],
 "metadata": {
  "kernelspec": {
   "display_name": "h_test",
   "language": "python",
   "name": "python3"
  },
  "language_info": {
   "codemirror_mode": {
    "name": "ipython",
    "version": 3
   },
   "file_extension": ".py",
   "mimetype": "text/x-python",
   "name": "python",
   "nbconvert_exporter": "python",
   "pygments_lexer": "ipython3",
   "version": "3.12.4"
  }
 },
 "nbformat": 4,
 "nbformat_minor": 2
}
