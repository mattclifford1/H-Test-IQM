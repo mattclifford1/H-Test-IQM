{
 "cells": [
  {
   "cell_type": "code",
   "execution_count": 6,
   "metadata": {},
   "outputs": [
    {
     "name": "stdout",
     "output_type": "stream",
     "text": [
      "The autoreload extension is already loaded. To reload it, use:\n",
      "  %reload_ext autoreload\n"
     ]
    }
   ],
   "source": [
    "%load_ext autoreload\n",
    "%autoreload 2\n",
    "import matplotlib.pyplot as plt\n",
    "import numpy as np\n",
    "from tqdm import tqdm\n",
    "from h_test_IQM.datasets.kodak import load_kodak\n",
    "from h_test_IQM.pipeline import distributions\n",
    "from h_test_IQM.metrics import IQMs\n",
    "from h_test_IQM.distortions import noise_sphere"
   ]
  },
  {
   "cell_type": "code",
   "execution_count": 7,
   "metadata": {},
   "outputs": [
    {
     "name": "stderr",
     "output_type": "stream",
     "text": [
      "100%|██████████| 24/24 [01:36<00:00,  4.00s/it]\n",
      "100%|██████████| 24/24 [01:35<00:00,  3.99s/it]\n"
     ]
    }
   ],
   "source": [
    "kodak_ims = load_kodak()\n",
    "epsilon_sphere = noise_sphere.epislon_noise(epsilon=40)\n",
    "br = IQMs.BRISQUE_diff()\n",
    "\n",
    "scores_1 = distributions.get_all_scores(kodak_ims, br, epsilon_sphere)\n",
    "scores_2 = distributions.get_all_scores(kodak_ims, br, epsilon_sphere)"
   ]
  },
  {
   "cell_type": "code",
   "execution_count": 8,
   "metadata": {},
   "outputs": [
    {
     "data": {
      "text/plain": [
       "(array([ 4.,  6.,  1.,  1.,  2.,  3.,  3.,  0.,  0.,  0.,  1.,  3.,  5.,\n",
       "         3.,  4.,  9.,  4.,  1.,  0.,  0.,  0.,  3.,  5.,  2.,  1.,  7.,\n",
       "         5.,  4.,  2.,  1.,  0.,  0.,  0.,  0.,  0.,  0.,  0.,  1.,  2.,\n",
       "         2.,  9.,  9., 10., 11., 13.,  7.,  5.,  2.,  1.,  2.,  3.,  1.,\n",
       "         2.,  0.,  0.,  2.,  2.,  4., 10., 16.,  6.,  5.,  4.,  1.,  0.,\n",
       "         0.,  0.,  0.,  0.,  0.,  0.,  0.,  0.,  1.,  3.,  4.,  2.,  0.,\n",
       "         0.,  0.,  0.,  0.,  0.,  0.,  0.,  0.,  0.,  0.,  0.,  0.,  0.,\n",
       "         0.,  0.,  0.,  0.,  1.,  3.,  4.,  1.,  1.]),\n",
       " array([12.19, 12.59, 13.  , 13.4 , 13.8 , 14.21, 14.61, 15.01, 15.41,\n",
       "        15.82, 16.22, 16.62, 17.03, 17.43, 17.83, 18.24, 18.64, 19.04,\n",
       "        19.44, 19.85, 20.25, 20.65, 21.06, 21.46, 21.86, 22.27, 22.67,\n",
       "        23.07, 23.47, 23.88, 24.28, 24.68, 25.09, 25.49, 25.89, 26.3 ,\n",
       "        26.7 , 27.1 , 27.5 , 27.91, 28.31, 28.71, 29.12, 29.52, 29.92,\n",
       "        30.33, 30.73, 31.13, 31.53, 31.94, 32.34, 32.74, 33.15, 33.55,\n",
       "        33.95, 34.36, 34.76, 35.16, 35.57, 35.97, 36.37, 36.77, 37.18,\n",
       "        37.58, 37.98, 38.39, 38.79, 39.19, 39.6 , 40.  , 40.4 , 40.8 ,\n",
       "        41.21, 41.61, 42.01, 42.42, 42.82, 43.22, 43.63, 44.03, 44.43,\n",
       "        44.83, 45.24, 45.64, 46.04, 46.45, 46.85, 47.25, 47.66, 48.06,\n",
       "        48.46, 48.86, 49.27, 49.67, 50.07, 50.48, 50.88, 51.28, 51.69,\n",
       "        52.09, 52.49]),\n",
       " <BarContainer object of 100 artists>)"
      ]
     },
     "execution_count": 8,
     "metadata": {},
     "output_type": "execute_result"
    },
    {
     "data": {
      "image/png": "[encoded data removed]",
      "text/plain": [
       "<Figure size 640x480 with 1 Axes>"
      ]
     },
     "metadata": {},
     "output_type": "display_data"
    }
   ],
   "source": [
    "# plot histogram of scores\n",
    "plt.hist(scores_1, bins=100)"
   ]
  }
 ],
 "metadata": {
  "kernelspec": {
   "display_name": "h_data",
   "language": "python",
   "name": "python3"
  },
  "language_info": {
   "codemirror_mode": {
    "name": "ipython",
    "version": 3
   },
   "file_extension": ".py",
   "mimetype": "text/x-python",
   "name": "python",
   "nbconvert_exporter": "python",
   "pygments_lexer": "ipython3",
   "version": "3.12.4"
  }
 },
 "nbformat": 4,
 "nbformat_minor": 2
}
