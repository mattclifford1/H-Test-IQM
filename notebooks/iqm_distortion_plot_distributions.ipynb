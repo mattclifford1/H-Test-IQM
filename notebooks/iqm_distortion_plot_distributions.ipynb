{
 "cells": [
  {
   "cell_type": "code",
   "execution_count": 1,
   "metadata": {},
   "outputs": [],
   "source": [
    "%load_ext autoreload\n",
    "%autoreload 2\n",
    "import matplotlib.pyplot as plt\n",
    "import numpy as np\n",
    "from tqdm import tqdm\n",
    "from h_test_IQM.datasets.numpy_loaders import kodak_loader\n",
    "from h_test_IQM.pipeline import distributions\n",
    "from h_test_IQM.metrics import IQMs\n",
    "from h_test_IQM.distortions import additive_noise"
   ]
  },
  {
   "cell_type": "code",
   "execution_count": 2,
   "metadata": {},
   "outputs": [
    {
     "name": "stderr",
     "output_type": "stream",
     "text": [
      "100%|██████████| 24/24 [01:34<00:00,  3.94s/it]\n",
      "100%|██████████| 24/24 [01:33<00:00,  3.91s/it]\n"
     ]
    }
   ],
   "source": [
    "kodak_ims = kodak_loader()\n",
    "epsilon_sphere = additive_noise.epsilon_noise(epsilon=40)\n",
    "br = IQMs.BRISQUE_diff()\n",
    "\n",
    "scores_1 = distributions.get_all_scores(kodak_ims, br, epsilon_sphere)\n",
    "scores_2 = distributions.get_all_scores(kodak_ims, br, epsilon_sphere)"
   ]
  },
  {
   "cell_type": "code",
   "execution_count": 3,
   "metadata": {},
   "outputs": [
    {
     "data": {
      "text/plain": [
       "(array([ 3.,  4.,  3.,  1.,  1.,  2.,  3.,  3.,  0.,  0.,  2.,  2.,  6.,\n",
       "         3.,  4.,  3.,  5.,  3.,  3.,  0.,  1.,  3.,  2.,  3.,  0.,  4.,\n",
       "         3.,  5.,  4.,  3.,  1.,  0.,  0.,  0.,  0.,  0.,  0.,  0.,  1.,\n",
       "         3.,  5.,  9., 11., 14., 13.,  9.,  6.,  7.,  5.,  0.,  3.,  3.,\n",
       "         1.,  0.,  0.,  0.,  0.,  1., 16.,  8., 13.,  4.,  7.,  0.,  1.,\n",
       "         0.,  0.,  0.,  0.,  0.,  0.,  0.,  0.,  0.,  2.,  4.,  2.,  1.,\n",
       "         1.,  0.,  0.,  0.,  0.,  0.,  0.,  0.,  0.,  0.,  0.,  0.,  0.,\n",
       "         0.,  0.,  0.,  0.,  0.,  1.,  0.,  5.,  4.]),\n",
       " array([12.05, 12.45, 12.85, 13.25, 13.65, 14.05, 14.45, 14.86, 15.26,\n",
       "        15.66, 16.06, 16.46, 16.86, 17.26, 17.66, 18.06, 18.47, 18.87,\n",
       "        19.27, 19.67, 20.07, 20.47, 20.87, 21.27, 21.68, 22.08, 22.48,\n",
       "        22.88, 23.28, 23.68, 24.08, 24.48, 24.89, 25.29, 25.69, 26.09,\n",
       "        26.49, 26.89, 27.29, 27.69, 28.09, 28.5 , 28.9 , 29.3 , 29.7 ,\n",
       "        30.1 , 30.5 , 30.9 , 31.3 , 31.71, 32.11, 32.51, 32.91, 33.31,\n",
       "        33.71, 34.11, 34.51, 34.91, 35.32, 35.72, 36.12, 36.52, 36.92,\n",
       "        37.32, 37.72, 38.12, 38.53, 38.93, 39.33, 39.73, 40.13, 40.53,\n",
       "        40.93, 41.33, 41.73, 42.14, 42.54, 42.94, 43.34, 43.74, 44.14,\n",
       "        44.54, 44.94, 45.35, 45.75, 46.15, 46.55, 46.95, 47.35, 47.75,\n",
       "        48.15, 48.55, 48.96, 49.36, 49.76, 50.16, 50.56, 50.96, 51.36,\n",
       "        51.76, 52.17]),\n",
       " <BarContainer object of 100 artists>)"
      ]
     },
     "execution_count": 3,
     "metadata": {},
     "output_type": "execute_result"
    },
    {
     "data": {
      "image/png": "[encoded data removed]",
      "text/plain": [
       "<Figure size 640x480 with 1 Axes>"
      ]
     },
     "metadata": {},
     "output_type": "display_data"
    }
   ],
   "source": [
    "# plot histogram of scores\n",
    "plt.hist(scores_1, bins=100)"
   ]
  }
 ],
 "metadata": {
  "kernelspec": {
   "display_name": "h_data",
   "language": "python",
   "name": "python3"
  },
  "language_info": {
   "codemirror_mode": {
    "name": "ipython",
    "version": 3
   },
   "file_extension": ".py",
   "mimetype": "text/x-python",
   "name": "python",
   "nbconvert_exporter": "python",
   "pygments_lexer": "ipython3",
   "version": "3.12.4"
  }
 },
 "nbformat": 4,
 "nbformat_minor": 2
}
