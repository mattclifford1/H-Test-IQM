{
 "cells": [
  {
   "cell_type": "code",
   "execution_count": 1,
   "metadata": {},
   "outputs": [],
   "source": [
    "%load_ext autoreload\n",
    "%autoreload 2\n",
    "import matplotlib.pyplot as plt\n",
    "import numpy as np\n",
    "from tqdm import tqdm\n",
    "from h_test_IQM.datasets.numpy_loaders import kodak_loader\n",
    "from h_test_IQM.pipeline import distributions\n",
    "from h_test_IQM.metrics import IQMs\n",
    "from h_test_IQM.distortions import noise_sphere"
   ]
  },
  {
   "cell_type": "code",
   "execution_count": 2,
   "metadata": {},
   "outputs": [
    {
     "name": "stderr",
     "output_type": "stream",
     "text": [
      "100%|██████████| 24/24 [01:34<00:00,  3.92s/it]\n",
      "100%|██████████| 24/24 [01:33<00:00,  3.90s/it]\n"
     ]
    }
   ],
   "source": [
    "kodak_ims = kodak_loader()\n",
    "epsilon_sphere = noise_sphere.epislon_noise(epsilon=40)\n",
    "br = IQMs.BRISQUE_diff()\n",
    "\n",
    "scores_1 = distributions.get_all_scores(kodak_ims, br, epsilon_sphere)\n",
    "scores_2 = distributions.get_all_scores(kodak_ims, br, epsilon_sphere)"
   ]
  },
  {
   "cell_type": "code",
   "execution_count": 3,
   "metadata": {},
   "outputs": [
    {
     "data": {
      "text/plain": [
       "(array([ 1.,  2.,  5.,  2.,  0.,  1.,  4.,  4.,  1.,  0.,  0.,  2.,  4.,\n",
       "         6.,  1.,  6.,  5.,  5.,  0.,  1.,  0.,  0.,  2.,  4.,  3.,  2.,\n",
       "         1.,  6.,  5.,  7.,  0.,  0.,  0.,  0.,  0.,  0.,  0.,  0.,  0.,\n",
       "         6.,  3., 10.,  7., 14., 12.,  9.,  7.,  2.,  2.,  3.,  3.,  1.,\n",
       "         1.,  0.,  0.,  2.,  0.,  5., 11., 14., 11.,  7.,  0.,  0.,  0.,\n",
       "         0.,  0.,  0.,  0.,  0.,  0.,  0.,  0.,  1.,  2.,  4.,  3.,  0.,\n",
       "         0.,  0.,  0.,  0.,  0.,  0.,  0.,  0.,  0.,  0.,  0.,  0.,  0.,\n",
       "         0.,  0.,  0.,  1.,  1.,  1.,  6.,  0.,  1.]),\n",
       " array([11.56, 11.97, 12.38, 12.8 , 13.21, 13.62, 14.03, 14.44, 14.86,\n",
       "        15.27, 15.68, 16.09, 16.5 , 16.91, 17.33, 17.74, 18.15, 18.56,\n",
       "        18.97, 19.39, 19.8 , 20.21, 20.62, 21.03, 21.45, 21.86, 22.27,\n",
       "        22.68, 23.09, 23.5 , 23.92, 24.33, 24.74, 25.15, 25.56, 25.98,\n",
       "        26.39, 26.8 , 27.21, 27.62, 28.04, 28.45, 28.86, 29.27, 29.68,\n",
       "        30.09, 30.51, 30.92, 31.33, 31.74, 32.15, 32.57, 32.98, 33.39,\n",
       "        33.8 , 34.21, 34.62, 35.04, 35.45, 35.86, 36.27, 36.68, 37.1 ,\n",
       "        37.51, 37.92, 38.33, 38.74, 39.16, 39.57, 39.98, 40.39, 40.8 ,\n",
       "        41.21, 41.63, 42.04, 42.45, 42.86, 43.27, 43.69, 44.1 , 44.51,\n",
       "        44.92, 45.33, 45.74, 46.16, 46.57, 46.98, 47.39, 47.8 , 48.22,\n",
       "        48.63, 49.04, 49.45, 49.86, 50.28, 50.69, 51.1 , 51.51, 51.92,\n",
       "        52.33, 52.75]),\n",
       " <BarContainer object of 100 artists>)"
      ]
     },
     "execution_count": 3,
     "metadata": {},
     "output_type": "execute_result"
    },
    {
     "data": {
      "image/png": "[encoded data removed]",
      "text/plain": [
       "<Figure size 640x480 with 1 Axes>"
      ]
     },
     "metadata": {},
     "output_type": "display_data"
    }
   ],
   "source": [
    "# plot histogram of scores\n",
    "plt.hist(scores_1, bins=100)"
   ]
  }
 ],
 "metadata": {
  "kernelspec": {
   "display_name": "h_data",
   "language": "python",
   "name": "python3"
  },
  "language_info": {
   "codemirror_mode": {
    "name": "ipython",
    "version": 3
   },
   "file_extension": ".py",
   "mimetype": "text/x-python",
   "name": "python",
   "nbconvert_exporter": "python",
   "pygments_lexer": "ipython3",
   "version": "3.12.4"
  }
 },
 "nbformat": 4,
 "nbformat_minor": 2
}
