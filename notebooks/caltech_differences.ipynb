{
 "cells": [
  {
   "cell_type": "code",
   "execution_count": 69,
   "metadata": {},
   "outputs": [
    {
     "name": "stdout",
     "output_type": "stream",
     "text": [
      "The autoreload extension is already loaded. To reload it, use:\n",
      "  %reload_ext autoreload\n"
     ]
    }
   ],
   "source": [
    "%load_ext autoreload\n",
    "%autoreload 2\n",
    "import numpy as np\n",
    "import matplotlib.pyplot as plt\n",
    "from h_test_IQM.pipeline import get_scores\n",
    "from h_test_IQM.pipeline.main import plot_hist, samples_to_pdf\n",
    "from tqdm import tqdm"
   ]
  },
  {
   "cell_type": "code",
   "execution_count": 70,
   "metadata": {},
   "outputs": [],
   "source": [
    "# parameters for each test to set up\n",
    "run1 = {'dataset': 'Caltech256', \n",
    "        'data_labels': 'all', \n",
    "        'dataset_proportion': 0.05, \n",
    "        'noise': 'gaussian_noise',\n",
    "        'test': 'KL',\n",
    "        'dev': False,   # If True, the code will run on very small data size\n",
    "        'runs': 10,\n",
    "        }\n",
    "\n",
    "# things to change for the test against\n",
    "run2 = run1.copy()\n",
    "run2['dataset'] = 'Caltech101'\n",
    "run2['dataset_proportion'] = 0.1"
   ]
  },
  {
   "cell_type": "code",
   "execution_count": 71,
   "metadata": {},
   "outputs": [
    {
     "name": "stderr",
     "output_type": "stream",
     "text": [
      "Caltech256:   0%|          | 0/10 [00:00<?, ?it/s]"
     ]
    },
    {
     "name": "stderr",
     "output_type": "stream",
     "text": [
      "Caltech256: 100%|██████████| 10/10 [00:43<00:00,  4.31s/it]\n",
      "Caltech101: 100%|██████████| 10/10 [00:21<00:00,  2.15s/it]\n"
     ]
    }
   ],
   "source": [
    "# run the tests for each configuration\n",
    "test1 = []\n",
    "test2 = []\n",
    "preloaded_ims = {}\n",
    "for test_results, run in zip([test1, test2], [run1, run2]):\n",
    "    if 'name' not in run:\n",
    "        run['name'] = run['dataset']\n",
    "    for i in tqdm(range(run['runs']), desc=run['name']):\n",
    "        outputs = get_scores(\n",
    "            dataset_target=run['dataset'],\n",
    "            dataset_test=run['dataset'],\n",
    "            target_labels=run['data_labels'],\n",
    "            test_labels=run['data_labels'],\n",
    "            transform_test=run['noise'],\n",
    "            scorer='entropy-2-mse',\n",
    "            test=run['test'],\n",
    "            dev=run['dev'],\n",
    "            dataset_proportion_target=run['dataset_proportion'],\n",
    "            dataset_proportion_test=run['dataset_proportion'],\n",
    "            seed=i,\n",
    "            _print=False,\n",
    "            preloaded_ims=preloaded_ims,\n",
    "        )\n",
    "        test_results.append(outputs['results'][run['test']])\n",
    "        preloaded_ims = outputs['preloaded_ims']"
   ]
  },
  {
   "cell_type": "code",
   "execution_count": 72,
   "metadata": {},
   "outputs": [
    {
     "data": {
      "image/png": "[encoded data removed]",
      "text/plain": [
       "<Figure size 640x480 with 1 Axes>"
      ]
     },
     "metadata": {},
     "output_type": "display_data"
    }
   ],
   "source": [
    "# plot the results (difference of differneces)\n",
    "test1 = np.array(test1)\n",
    "test2 = np.array(test2)\n",
    "dist1, dist2, all_bins, one_bins = samples_to_pdf(\n",
    "    test2, test1, num_bins=50)\n",
    "plot_hist(dist1, all_bins, name=run1['name'])\n",
    "plot_hist(dist2, one_bins, name=run2['name'])\n",
    "plt.legend()\n",
    "plt.show()"
   ]
  },
  {
   "cell_type": "code",
   "execution_count": null,
   "metadata": {},
   "outputs": [],
   "source": []
  }
 ],
 "metadata": {
  "kernelspec": {
   "display_name": "h_data",
   "language": "python",
   "name": "python3"
  },
  "language_info": {
   "codemirror_mode": {
    "name": "ipython",
    "version": 3
   },
   "file_extension": ".py",
   "mimetype": "text/x-python",
   "name": "python",
   "nbconvert_exporter": "python",
   "pygments_lexer": "ipython3",
   "version": "3.12.4"
  }
 },
 "nbformat": 4,
 "nbformat_minor": 2
}
