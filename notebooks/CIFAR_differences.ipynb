{
 "cells": [
  {
   "cell_type": "code",
   "execution_count": 1,
   "metadata": {},
   "outputs": [],
   "source": [
    "%load_ext autoreload\n",
    "%autoreload 2\n",
    "import numpy as np\n",
    "import matplotlib.pyplot as plt\n",
    "from h_test_IQM.pipeline import get_scores\n",
    "from h_test_IQM.pipeline.main import plot_hist, samples_to_pdf\n",
    "from tqdm import tqdm"
   ]
  },
  {
   "cell_type": "code",
   "execution_count": 2,
   "metadata": {},
   "outputs": [
    {
     "name": "stderr",
     "output_type": "stream",
     "text": [
      "100%|██████████| 10/10 [00:41<00:00,  4.19s/it]\n"
     ]
    }
   ],
   "source": [
    "all_cifar_KL = []\n",
    "for i in tqdm(range(10)):\n",
    "    _, _, res = get_scores(\n",
    "        dataset_target='CIFAR_10',\n",
    "        dataset_test='CIFAR_10',\n",
    "        # test_labels=[0, 1],\n",
    "        transform_test='gaussian_noise',\n",
    "        scorer='entropy-2-mse',\n",
    "        test='KL',\n",
    "        dev=False,\n",
    "        dataset_proportion=0.1,\n",
    "        seed=i,\n",
    "        _print=False\n",
    "    )\n",
    "    all_cifar_KL.append(res['KL'])"
   ]
  },
  {
   "cell_type": "code",
   "execution_count": 14,
   "metadata": {},
   "outputs": [
    {
     "name": "stderr",
     "output_type": "stream",
     "text": [
      "  0%|          | 0/10 [00:00<?, ?it/s]"
     ]
    },
    {
     "name": "stderr",
     "output_type": "stream",
     "text": [
      "100%|██████████| 10/10 [00:08<00:00,  1.17it/s]\n"
     ]
    }
   ],
   "source": [
    "one_class_CIFAR = []\n",
    "for i in tqdm(range(10)):\n",
    "    _, _, res = get_scores(\n",
    "        dataset_target='CIFAR_10',\n",
    "        dataset_test='CIFAR_10',\n",
    "        target_labels=[0, 1],\n",
    "        test_labels=[0, 1],\n",
    "        transform_test='gaussian_noise',\n",
    "        scorer='entropy-2-mse',\n",
    "        test='KL',\n",
    "        dev=False,\n",
    "        dataset_proportion=0.1,\n",
    "        seed=i,\n",
    "        _print=False\n",
    "    )\n",
    "    one_class_CIFAR.append(res['KL'])"
   ]
  },
  {
   "cell_type": "code",
   "execution_count": 15,
   "metadata": {},
   "outputs": [
    {
     "data": {
      "image/png": "[encoded data removed]",
      "text/plain": [
       "<Figure size 640x480 with 1 Axes>"
      ]
     },
     "metadata": {},
     "output_type": "display_data"
    }
   ],
   "source": [
    "one_class_CIFAR = np.array(one_class_CIFAR)\n",
    "all_cifar_KL = np.array(all_cifar_KL)\n",
    "dist_all, dist_one, all_bins, one_bins = samples_to_pdf(\n",
    "    all_cifar_KL, one_class_CIFAR, num_bins=50)\n",
    "plot_hist(dist_all, all_bins, name='All Classes')\n",
    "plot_hist(dist_one, one_bins, name='Less Classes')\n",
    "plt.legend()\n",
    "plt.show()"
   ]
  },
  {
   "cell_type": "code",
   "execution_count": null,
   "metadata": {},
   "outputs": [],
   "source": []
  }
 ],
 "metadata": {
  "kernelspec": {
   "display_name": "h_test",
   "language": "python",
   "name": "python3"
  },
  "language_info": {
   "codemirror_mode": {
    "name": "ipython",
    "version": 3
   },
   "file_extension": ".py",
   "mimetype": "text/x-python",
   "name": "python",
   "nbconvert_exporter": "python",
   "pygments_lexer": "ipython3",
   "version": "3.12.4"
  }
 },
 "nbformat": 4,
 "nbformat_minor": 2
}
