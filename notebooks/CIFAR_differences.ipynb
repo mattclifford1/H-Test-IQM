{
 "cells": [
  {
   "cell_type": "code",
   "execution_count": 4,
   "metadata": {},
   "outputs": [
    {
     "name": "stdout",
     "output_type": "stream",
     "text": [
      "The autoreload extension is already loaded. To reload it, use:\n",
      "  %reload_ext autoreload\n"
     ]
    }
   ],
   "source": [
    "%load_ext autoreload\n",
    "%autoreload 2\n",
    "import numpy as np\n",
    "import matplotlib.pyplot as plt\n",
    "from h_test_IQM.pipeline import get_scores\n",
    "from h_test_IQM.pipeline.main import plot_hist, samples_to_pdf\n",
    "from tqdm import tqdm"
   ]
  },
  {
   "cell_type": "code",
   "execution_count": 5,
   "metadata": {},
   "outputs": [
    {
     "name": "stderr",
     "output_type": "stream",
     "text": [
      "100%|██████████| 10/10 [01:19<00:00,  7.93s/it]\n"
     ]
    }
   ],
   "source": [
    "all_cifar_KL = []\n",
    "for i in tqdm(range(10)):\n",
    "    _, _, res = get_scores(\n",
    "        dataset_target='CIFAR_10',\n",
    "        dataset_test='CIFAR_10',\n",
    "        # test_labels=[0, 1],\n",
    "        transform_test='gaussian_noise',\n",
    "        scorer='entropy-2-mse',\n",
    "        test='KL',\n",
    "        dev=False,\n",
    "        dataset_proportion=0.1,\n",
    "        seed=i,\n",
    "        _print=False\n",
    "    )\n",
    "    all_cifar_KL.append(res['KL'])"
   ]
  },
  {
   "cell_type": "code",
   "execution_count": 6,
   "metadata": {},
   "outputs": [
    {
     "name": "stderr",
     "output_type": "stream",
     "text": [
      "100%|██████████| 10/10 [00:10<00:00,  1.02s/it]\n"
     ]
    }
   ],
   "source": [
    "one_class_CIFAR = []\n",
    "for i in tqdm(range(10)):\n",
    "    _, _, res = get_scores(\n",
    "        dataset_target='CIFAR_10',\n",
    "        dataset_test='CIFAR_10',\n",
    "        target_labels=[0],\n",
    "        test_labels=[0],\n",
    "        transform_test='gaussian_noise',\n",
    "        scorer='entropy-2-mse',\n",
    "        test='KL',\n",
    "        dev=False,\n",
    "        dataset_proportion=0.1,\n",
    "        seed=i,\n",
    "        _print=False\n",
    "    )\n",
    "    one_class_CIFAR.append(res['KL'])"
   ]
  },
  {
   "cell_type": "code",
   "execution_count": 7,
   "metadata": {},
   "outputs": [
    {
     "ename": "AttributeError",
     "evalue": "'list' object has no attribute 'min'",
     "output_type": "error",
     "traceback": [
      "\u001b[0;31m---------------------------------------------------------------------------\u001b[0m",
      "\u001b[0;31mAttributeError\u001b[0m                            Traceback (most recent call last)",
      "Cell \u001b[0;32mIn[7], line 1\u001b[0m\n\u001b[0;32m----> 1\u001b[0m dist_all, dist_one, all_bins, one_bins \u001b[38;5;241m=\u001b[39m \u001b[43msamples_to_pdf\u001b[49m\u001b[43m(\u001b[49m\n\u001b[1;32m      2\u001b[0m \u001b[43m    \u001b[49m\u001b[43mall_cifar_KL\u001b[49m\u001b[43m,\u001b[49m\u001b[43m \u001b[49m\u001b[43mone_class_CIFAR\u001b[49m\u001b[43m,\u001b[49m\u001b[43m \u001b[49m\u001b[43mnum_bins\u001b[49m\u001b[38;5;241;43m=\u001b[39;49m\u001b[38;5;241;43m50\u001b[39;49m\u001b[43m)\u001b[49m\n\u001b[1;32m      3\u001b[0m plot_hist(dist_all, all_bins, name\u001b[38;5;241m=\u001b[39m\u001b[38;5;124m'\u001b[39m\u001b[38;5;124mAll Classes\u001b[39m\u001b[38;5;124m'\u001b[39m)\n\u001b[1;32m      4\u001b[0m plot_hist(dist_one, one_bins, name\u001b[38;5;241m=\u001b[39m\u001b[38;5;124m'\u001b[39m\u001b[38;5;124mOne Class\u001b[39m\u001b[38;5;124m'\u001b[39m)\n",
      "File \u001b[0;32m~/projects/H-Test-IQM/h_test_IQM/pipeline/main.py:228\u001b[0m, in \u001b[0;36msamples_to_pdf\u001b[0;34m(sample1, sample2, num_bins)\u001b[0m\n\u001b[1;32m    225\u001b[0m \u001b[38;5;28;01mdef\u001b[39;00m \u001b[38;5;21msamples_to_pdf\u001b[39m(sample1, sample2, num_bins\u001b[38;5;241m=\u001b[39m\u001b[38;5;241m10\u001b[39m):\n\u001b[1;32m    226\u001b[0m     \u001b[38;5;66;03m# convert scores into PDF via normalised histograms\u001b[39;00m\n\u001b[1;32m    227\u001b[0m     \u001b[38;5;66;03m# use two samples for both on the same range\u001b[39;00m\n\u001b[0;32m--> 228\u001b[0m     min_val \u001b[38;5;241m=\u001b[39m \u001b[38;5;28mmin\u001b[39m(\u001b[43msample1\u001b[49m\u001b[38;5;241;43m.\u001b[39;49m\u001b[43mmin\u001b[49m(), sample2\u001b[38;5;241m.\u001b[39mmin())\n\u001b[1;32m    229\u001b[0m     max_val \u001b[38;5;241m=\u001b[39m \u001b[38;5;28mmax\u001b[39m(sample1\u001b[38;5;241m.\u001b[39mmax(), sample2\u001b[38;5;241m.\u001b[39mmax())\n\u001b[1;32m    230\u001b[0m     range_vals \u001b[38;5;241m=\u001b[39m (min_val, max_val)\n",
      "\u001b[0;31mAttributeError\u001b[0m: 'list' object has no attribute 'min'"
     ]
    }
   ],
   "source": [
    "dist_all, dist_one, all_bins, one_bins = samples_to_pdf(\n",
    "    all_cifar_KL, one_class_CIFAR, num_bins=50)\n",
    "plot_hist(dist_all, all_bins, name='All Classes')\n",
    "plot_hist(dist_one, one_bins, name='One Class')\n",
    "plt.legend()\n",
    "plt.show()"
   ]
  }
 ],
 "metadata": {
  "kernelspec": {
   "display_name": "h_test",
   "language": "python",
   "name": "python3"
  },
  "language_info": {
   "codemirror_mode": {
    "name": "ipython",
    "version": 3
   },
   "file_extension": ".py",
   "mimetype": "text/x-python",
   "name": "python",
   "nbconvert_exporter": "python",
   "pygments_lexer": "ipython3",
   "version": "3.10.14"
  }
 },
 "nbformat": 4,
 "nbformat_minor": 2
}
