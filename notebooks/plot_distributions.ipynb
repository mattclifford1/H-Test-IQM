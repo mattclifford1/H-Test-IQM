{
 "cells": [
  {
   "cell_type": "code",
   "execution_count": 1,
   "metadata": {},
   "outputs": [],
   "source": [
    "%load_ext autoreload\n",
    "%autoreload 2\n",
    "import multiprocessing\n",
    "import matplotlib.pyplot as plt\n",
    "import numpy as np\n",
    "from tqdm import tqdm\n",
    "from h_test_IQM.datasets.kodak import load_kodak\n",
    "from h_test_IQM.pipeline import distributions\n",
    "from h_test_IQM.metrics import IQMs\n",
    "from h_test_IQM.distortions import noise_sphere"
   ]
  },
  {
   "cell_type": "code",
   "execution_count": 2,
   "metadata": {},
   "outputs": [
    {
     "name": "stderr",
     "output_type": "stream",
     "text": [
      "100%|██████████| 24/24 [01:33<00:00,  3.89s/it]\n"
     ]
    }
   ],
   "source": [
    "kodak_ims = load_kodak()\n",
    "epsilon_sphere = noise_sphere.epislon_noise(epsilon=40)\n",
    "br = IQMs.BRISQUE_diff()\n",
    "\n",
    "def test_single(args):\n",
    "    results = distributions.get_IQM_sensitivity(\n",
    "        img=args[0], IQM=args[1], distortion=args[2], num_samples=10)\n",
    "    return results\n",
    "\n",
    "mp = False   # cannot use multiprocessing in with many IQMs currently...\n",
    "if mp == True:\n",
    "    n_cpus = multiprocessing.cpu_count()\n",
    "    args = [(img, br, epsilon_sphere) for img in kodak_ims]\n",
    "    with multiprocessing.Pool(processes=n_cpus) as pool:\n",
    "        scores = list(tqdm(pool.imap_unordered(test_single, args),\n",
    "                        total=len(kodak_ims), leave=False))\n",
    "\n",
    "else:        \n",
    "    scores = []\n",
    "    for img in tqdm(kodak_ims):\n",
    "        results = distributions.get_IQM_sensitivity(\n",
    "            img, IQM=br, distortion=epsilon_sphere, num_samples=10)\n",
    "        scores.append(results)"
   ]
  },
  {
   "cell_type": "code",
   "execution_count": 6,
   "metadata": {},
   "outputs": [],
   "source": [
    "# convert all into one\n",
    "all_scores = []\n",
    "for results in scores:\n",
    "    for sample in results:\n",
    "        all_scores.append(sample)"
   ]
  },
  {
   "cell_type": "code",
   "execution_count": 4,
   "metadata": {},
   "outputs": [
    {
     "data": {
      "text/plain": [
       "(230,)"
      ]
     },
     "execution_count": 4,
     "metadata": {},
     "output_type": "execute_result"
    }
   ],
   "source": [
    "all_scores = np.array(all_scores)\n",
    "all_scores.shape"
   ]
  },
  {
   "cell_type": "code",
   "execution_count": 7,
   "metadata": {},
   "outputs": [
    {
     "data": {
      "text/plain": [
       "(array([ 3.,  2.,  2.,  3.,  0.,  1.,  2.,  7.,  0.,  0.,  0.,  2.,  4.,\n",
       "         5.,  6.,  3.,  5.,  3.,  2.,  0.,  0.,  3.,  5.,  1.,  0.,  2.,\n",
       "         4.,  7.,  6.,  1.,  0.,  1.,  0.,  0.,  0.,  0.,  0.,  1.,  1.,\n",
       "         9.,  3.,  9., 13., 13., 11.,  7.,  3.,  1.,  2.,  2.,  2.,  1.,\n",
       "         2.,  0.,  0.,  2.,  4.,  5., 13., 11., 10.,  3.,  2.,  0.,  0.,\n",
       "         0.,  0.,  0.,  0.,  0.,  0.,  0.,  2.,  1.,  4.,  2.,  1.,  0.,\n",
       "         0.,  0.,  0.,  0.,  0.,  0.,  0.,  0.,  0.,  0.,  0.,  0.,  0.,\n",
       "         0.,  0.,  0.,  0.,  3.,  4.,  2.,  0.,  1.]),\n",
       " array([11.89, 12.3 , 12.71, 13.12, 13.53, 13.94, 14.35, 14.76, 15.17,\n",
       "        15.58, 15.99, 16.4 , 16.81, 17.22, 17.63, 18.04, 18.45, 18.86,\n",
       "        19.27, 19.68, 20.09, 20.5 , 20.91, 21.32, 21.73, 22.14, 22.55,\n",
       "        22.96, 23.37, 23.78, 24.19, 24.6 , 25.01, 25.42, 25.83, 26.24,\n",
       "        26.65, 27.06, 27.47, 27.88, 28.29, 28.7 , 29.11, 29.52, 29.93,\n",
       "        30.34, 30.75, 31.16, 31.57, 31.98, 32.39, 32.8 , 33.21, 33.62,\n",
       "        34.03, 34.44, 34.85, 35.26, 35.67, 36.08, 36.49, 36.9 , 37.31,\n",
       "        37.72, 38.13, 38.54, 38.95, 39.36, 39.77, 40.18, 40.59, 41.  ,\n",
       "        41.41, 41.82, 42.23, 42.64, 43.05, 43.46, 43.86, 44.27, 44.68,\n",
       "        45.09, 45.5 , 45.91, 46.32, 46.73, 47.14, 47.55, 47.96, 48.37,\n",
       "        48.78, 49.19, 49.6 , 50.01, 50.42, 50.83, 51.24, 51.65, 52.06,\n",
       "        52.47, 52.88]),\n",
       " <BarContainer object of 100 artists>)"
      ]
     },
     "execution_count": 7,
     "metadata": {},
     "output_type": "execute_result"
    },
    {
     "data": {
      "image/png": "[encoded data removed]",
      "text/plain": [
       "<Figure size 640x480 with 1 Axes>"
      ]
     },
     "metadata": {},
     "output_type": "display_data"
    }
   ],
   "source": [
    "# plot histogram of scores\n",
    "plt.hist(all_scores, bins=100)"
   ]
  }
 ],
 "metadata": {
  "kernelspec": {
   "display_name": "h_data",
   "language": "python",
   "name": "python3"
  },
  "language_info": {
   "codemirror_mode": {
    "name": "ipython",
    "version": 3
   },
   "file_extension": ".py",
   "mimetype": "text/x-python",
   "name": "python",
   "nbconvert_exporter": "python",
   "pygments_lexer": "ipython3",
   "version": "3.12.4"
  }
 },
 "nbformat": 4,
 "nbformat_minor": 2
}
